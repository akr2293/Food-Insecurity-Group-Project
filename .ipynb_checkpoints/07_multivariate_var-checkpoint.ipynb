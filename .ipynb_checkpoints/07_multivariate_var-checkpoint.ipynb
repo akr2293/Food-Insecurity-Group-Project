{
 "cells": [
  {
   "cell_type": "markdown",
   "metadata": {},
   "source": [
    "# <img src=\"./resources/GA.png\" width=\"25\" height=\"25\" />   <span style=\"color:Purple\">Project 5 :  Food Insecurity Regression Study</span> \n",
    "---\n",
    "## <span style=\"color:Green\"> 07 - Multivariate Time Series Modeling (VAR)</span>      \n",
    "\n",
    "#### Alec Edgecliffe-Johnson, Ryan McDonald, Andrew Roberts, Ira Seidman- General Assembly \n",
    "\n",
    "\n",
    "\n",
    "---"
   ]
  },
  {
   "cell_type": "markdown",
   "metadata": {},
   "source": [
    "### Notebook Contents:\n",
    "\n",
    "- [Reading the Data](#intro)\n",
    "- [Model with VAR](#var)\n",
    "- [Data Preparation](#prep)\n"
   ]
  },
  {
   "cell_type": "markdown",
   "metadata": {},
   "source": [
    "**Imports**"
   ]
  },
  {
   "cell_type": "code",
   "execution_count": 1,
   "metadata": {},
   "outputs": [],
   "source": [
    "import pandas as pd\n",
    "pd.set_option('display.max_rows', None)\n",
    "pd.set_option('display.max_columns', None)\n",
    "pd.set_option('display.width', None)\n",
    "pd.set_option('display.max_colwidth', None)\n",
    "import numpy as np\n",
    "import matplotlib.pyplot as plt\n",
    "import seaborn as sns\n",
    "from statsmodels.tsa.vector_ar.var_model import VAR"
   ]
  },
  {
   "cell_type": "markdown",
   "metadata": {},
   "source": [
    "<a id='intro'></a>\n",
    "## 1. Reading in The Data"
   ]
  },
  {
   "cell_type": "code",
   "execution_count": 2,
   "metadata": {},
   "outputs": [],
   "source": [
    "data = pd.read_csv('./data/time_series/pov_fi_10_yr_c.csv')"
   ]
  },
  {
   "cell_type": "code",
   "execution_count": 3,
   "metadata": {},
   "outputs": [
    {
     "data": {
      "text/html": [
       "<div>\n",
       "<style scoped>\n",
       "    .dataframe tbody tr th:only-of-type {\n",
       "        vertical-align: middle;\n",
       "    }\n",
       "\n",
       "    .dataframe tbody tr th {\n",
       "        vertical-align: top;\n",
       "    }\n",
       "\n",
       "    .dataframe thead th {\n",
       "        text-align: right;\n",
       "    }\n",
       "</style>\n",
       "<table border=\"1\" class=\"dataframe\">\n",
       "  <thead>\n",
       "    <tr style=\"text-align: right;\">\n",
       "      <th></th>\n",
       "      <th>Unnamed: 0</th>\n",
       "      <th>time</th>\n",
       "      <th>state</th>\n",
       "      <th>pov</th>\n",
       "      <th>fi</th>\n",
       "    </tr>\n",
       "  </thead>\n",
       "  <tbody>\n",
       "    <tr>\n",
       "      <th>0</th>\n",
       "      <td>1.0</td>\n",
       "      <td>1/1/2010</td>\n",
       "      <td>Alabama</td>\n",
       "      <td>18.9</td>\n",
       "      <td>20.379104</td>\n",
       "    </tr>\n",
       "    <tr>\n",
       "      <th>1</th>\n",
       "      <td>2.0</td>\n",
       "      <td>1/1/2011</td>\n",
       "      <td>Alabama</td>\n",
       "      <td>18.9</td>\n",
       "      <td>19.292537</td>\n",
       "    </tr>\n",
       "    <tr>\n",
       "      <th>2</th>\n",
       "      <td>3.0</td>\n",
       "      <td>1/1/2012</td>\n",
       "      <td>Alabama</td>\n",
       "      <td>21.3</td>\n",
       "      <td>19.497412</td>\n",
       "    </tr>\n",
       "    <tr>\n",
       "      <th>3</th>\n",
       "      <td>4.0</td>\n",
       "      <td>1/1/2013</td>\n",
       "      <td>Alabama</td>\n",
       "      <td>23.8</td>\n",
       "      <td>18.569592</td>\n",
       "    </tr>\n",
       "    <tr>\n",
       "      <th>4</th>\n",
       "      <td>5.0</td>\n",
       "      <td>1/1/2014</td>\n",
       "      <td>Alabama</td>\n",
       "      <td>20.6</td>\n",
       "      <td>18.800626</td>\n",
       "    </tr>\n",
       "  </tbody>\n",
       "</table>\n",
       "</div>"
      ],
      "text/plain": [
       "   Unnamed: 0      time    state   pov         fi\n",
       "0         1.0  1/1/2010  Alabama  18.9  20.379104\n",
       "1         2.0  1/1/2011  Alabama  18.9  19.292537\n",
       "2         3.0  1/1/2012  Alabama  21.3  19.497412\n",
       "3         4.0  1/1/2013  Alabama  23.8  18.569592\n",
       "4         5.0  1/1/2014  Alabama  20.6  18.800626"
      ]
     },
     "execution_count": 3,
     "metadata": {},
     "output_type": "execute_result"
    }
   ],
   "source": [
    "data.head()"
   ]
  },
  {
   "cell_type": "code",
   "execution_count": 4,
   "metadata": {},
   "outputs": [],
   "source": [
    "data = data.drop(columns = ['Unnamed: 0'])"
   ]
  },
  {
   "cell_type": "code",
   "execution_count": 5,
   "metadata": {},
   "outputs": [
    {
     "data": {
      "text/html": [
       "<div>\n",
       "<style scoped>\n",
       "    .dataframe tbody tr th:only-of-type {\n",
       "        vertical-align: middle;\n",
       "    }\n",
       "\n",
       "    .dataframe tbody tr th {\n",
       "        vertical-align: top;\n",
       "    }\n",
       "\n",
       "    .dataframe thead th {\n",
       "        text-align: right;\n",
       "    }\n",
       "</style>\n",
       "<table border=\"1\" class=\"dataframe\">\n",
       "  <thead>\n",
       "    <tr style=\"text-align: right;\">\n",
       "      <th></th>\n",
       "      <th>time</th>\n",
       "      <th>state</th>\n",
       "      <th>pov</th>\n",
       "      <th>fi</th>\n",
       "    </tr>\n",
       "  </thead>\n",
       "  <tbody>\n",
       "    <tr>\n",
       "      <th>0</th>\n",
       "      <td>1/1/2010</td>\n",
       "      <td>Alabama</td>\n",
       "      <td>18.9</td>\n",
       "      <td>20.379104</td>\n",
       "    </tr>\n",
       "    <tr>\n",
       "      <th>1</th>\n",
       "      <td>1/1/2011</td>\n",
       "      <td>Alabama</td>\n",
       "      <td>18.9</td>\n",
       "      <td>19.292537</td>\n",
       "    </tr>\n",
       "    <tr>\n",
       "      <th>2</th>\n",
       "      <td>1/1/2012</td>\n",
       "      <td>Alabama</td>\n",
       "      <td>21.3</td>\n",
       "      <td>19.497412</td>\n",
       "    </tr>\n",
       "    <tr>\n",
       "      <th>3</th>\n",
       "      <td>1/1/2013</td>\n",
       "      <td>Alabama</td>\n",
       "      <td>23.8</td>\n",
       "      <td>18.569592</td>\n",
       "    </tr>\n",
       "    <tr>\n",
       "      <th>4</th>\n",
       "      <td>1/1/2014</td>\n",
       "      <td>Alabama</td>\n",
       "      <td>20.6</td>\n",
       "      <td>18.800626</td>\n",
       "    </tr>\n",
       "  </tbody>\n",
       "</table>\n",
       "</div>"
      ],
      "text/plain": [
       "       time    state   pov         fi\n",
       "0  1/1/2010  Alabama  18.9  20.379104\n",
       "1  1/1/2011  Alabama  18.9  19.292537\n",
       "2  1/1/2012  Alabama  21.3  19.497412\n",
       "3  1/1/2013  Alabama  23.8  18.569592\n",
       "4  1/1/2014  Alabama  20.6  18.800626"
      ]
     },
     "execution_count": 5,
     "metadata": {},
     "output_type": "execute_result"
    }
   ],
   "source": [
    "data.head()"
   ]
  },
  {
   "cell_type": "code",
   "execution_count": 6,
   "metadata": {},
   "outputs": [
    {
     "data": {
      "text/plain": [
       "time      object\n",
       "state     object\n",
       "pov      float64\n",
       "fi       float64\n",
       "dtype: object"
      ]
     },
     "execution_count": 6,
     "metadata": {},
     "output_type": "execute_result"
    }
   ],
   "source": [
    "data.dtypes"
   ]
  },
  {
   "cell_type": "code",
   "execution_count": 7,
   "metadata": {},
   "outputs": [],
   "source": [
    "data['time'] = pd.to_datetime(data['time'])"
   ]
  },
  {
   "cell_type": "code",
   "execution_count": 8,
   "metadata": {},
   "outputs": [],
   "source": [
    "# data.set_index('time', inplace=True)"
   ]
  },
  {
   "cell_type": "code",
   "execution_count": 9,
   "metadata": {},
   "outputs": [
    {
     "data": {
      "text/html": [
       "<div>\n",
       "<style scoped>\n",
       "    .dataframe tbody tr th:only-of-type {\n",
       "        vertical-align: middle;\n",
       "    }\n",
       "\n",
       "    .dataframe tbody tr th {\n",
       "        vertical-align: top;\n",
       "    }\n",
       "\n",
       "    .dataframe thead th {\n",
       "        text-align: right;\n",
       "    }\n",
       "</style>\n",
       "<table border=\"1\" class=\"dataframe\">\n",
       "  <thead>\n",
       "    <tr style=\"text-align: right;\">\n",
       "      <th></th>\n",
       "      <th>time</th>\n",
       "      <th>state</th>\n",
       "      <th>pov</th>\n",
       "      <th>fi</th>\n",
       "    </tr>\n",
       "  </thead>\n",
       "  <tbody>\n",
       "    <tr>\n",
       "      <th>0</th>\n",
       "      <td>2010-01-01</td>\n",
       "      <td>Alabama</td>\n",
       "      <td>18.9</td>\n",
       "      <td>20.379104</td>\n",
       "    </tr>\n",
       "    <tr>\n",
       "      <th>1</th>\n",
       "      <td>2011-01-01</td>\n",
       "      <td>Alabama</td>\n",
       "      <td>18.9</td>\n",
       "      <td>19.292537</td>\n",
       "    </tr>\n",
       "    <tr>\n",
       "      <th>2</th>\n",
       "      <td>2012-01-01</td>\n",
       "      <td>Alabama</td>\n",
       "      <td>21.3</td>\n",
       "      <td>19.497412</td>\n",
       "    </tr>\n",
       "    <tr>\n",
       "      <th>3</th>\n",
       "      <td>2013-01-01</td>\n",
       "      <td>Alabama</td>\n",
       "      <td>23.8</td>\n",
       "      <td>18.569592</td>\n",
       "    </tr>\n",
       "    <tr>\n",
       "      <th>4</th>\n",
       "      <td>2014-01-01</td>\n",
       "      <td>Alabama</td>\n",
       "      <td>20.6</td>\n",
       "      <td>18.800626</td>\n",
       "    </tr>\n",
       "  </tbody>\n",
       "</table>\n",
       "</div>"
      ],
      "text/plain": [
       "        time    state   pov         fi\n",
       "0 2010-01-01  Alabama  18.9  20.379104\n",
       "1 2011-01-01  Alabama  18.9  19.292537\n",
       "2 2012-01-01  Alabama  21.3  19.497412\n",
       "3 2013-01-01  Alabama  23.8  18.569592\n",
       "4 2014-01-01  Alabama  20.6  18.800626"
      ]
     },
     "execution_count": 9,
     "metadata": {},
     "output_type": "execute_result"
    }
   ],
   "source": [
    "data.head()"
   ]
  },
  {
   "cell_type": "markdown",
   "metadata": {},
   "source": [
    "<a id='var'></a>\n",
    "## 2. Modeling with Var"
   ]
  },
  {
   "cell_type": "markdown",
   "metadata": {},
   "source": [
    "**Plots developed and added to Tableau/Streamlit**"
   ]
  },
  {
   "cell_type": "code",
   "execution_count": 10,
   "metadata": {},
   "outputs": [],
   "source": [
    "# Code and methodology developed with help from Adi, from https://www.analyticsvidhya.com/blog/2018/09/multivariate-time-series-guide-forecasting-modeling-python-codes/ and from https://www.youtube.com/watch?v=sCl6CXZ2xBg"
   ]
  },
  {
   "cell_type": "code",
   "execution_count": 16,
   "metadata": {},
   "outputs": [],
   "source": [
    "## Creating a full states list:\n",
    "\n",
    "states = [\"Alabama\",\"Alaska\",\"Arizona\",\"Arkansas\",\"California\",\"Colorado\",\n",
    "  \"Connecticut\",\"District of Columbia\", \"Delaware\",\"Florida\",\"Georgia\",\"Hawaii\",\"Idaho\",\"Illinois\",\n",
    "  \"Indiana\",\"Iowa\",\"Kansas\",\"Kentucky\",\"Louisiana\",\"Maine\",\"Maryland\",\n",
    "  \"Massachusetts\",\"Michigan\",\"Minnesota\",\"Mississippi\",\"Missouri\",\"Montana\",\n",
    "  \"Nebraska\",\"Nevada\",\"New Hampshire\",\"New Jersey\",\"New Mexico\",\"New York\",\n",
    "  \"North Carolina\",\"North Dakota\",\"Ohio\",\"Oklahoma\",\"Oregon\",\"Pennsylvania\",\n",
    "  \"Rhode Island\",\"South Carolina\",\"South Dakota\",\"Tennessee\",\"Texas\",\"Utah\",\n",
    "  \"Vermont\",\"Virginia\",\"Washington\",\"West Virginia\",\"Wisconsin\",\"Wyoming\"]\n",
    "\n",
    "#For loop for all states\n",
    "\n",
    "for s in states:\n",
    "    #training data\n",
    "    train_data = data[data['state'] == s]\n",
    "    train_data = train_data[['time', 'fi', 'pov']]\n",
    "    train_data = train_data.drop(train_data.tail(2).index)\n",
    "    \n",
    "    \n",
    "    #valid data\n",
    "    valid_data = data[data['state'] == s]\n",
    "    valid_data = valid_data[['time', 'fi', 'pov']]\n",
    "    valid_data = valid_data.drop(valid_data.head(7).index)\n",
    "    \n",
    "    \n",
    "    #all data\n",
    "    all_data = data[data['state'] == s]\n",
    "    all_data = all_data[['time', 'fi', 'pov']]\n",
    "    \n",
    "    #Set time column to index\n",
    "    train_data.set_index('time', inplace=True)\n",
    "    valid_data.set_index('time', inplace=True)\n",
    "    all_data.set_index('time', inplace=True)\n",
    "    \n",
    "    #Set valid index for 7 years\n",
    "    index_7_years = pd.date_range(train_data.index[-1], freq = 'AS', periods = 7)\n",
    "    \n",
    "    #Future index - 7 years\n",
    "    future_7_years = pd.date_range(valid_data.index[-1], freq = 'AS', periods = 7)\n",
    "    \n",
    "    ## Tricky bit of code in order to basically reset the forecasts from the previous state. \n",
    "    # Otherwise, if a state fails to work in the model, the forecast from the previous state is going to be passed in.\n",
    "    \n",
    "    #Drop all tables:\n",
    "#     try:\n",
    "#         del t_fcast1\n",
    "#         del f_fcast1\n",
    "        \n",
    "#     except:\n",
    "#         print(\"\")\n",
    "\n",
    "        \n",
    "    \n",
    "##################################################################################################################\n",
    "################################################ VAR #########################################################\n",
    "##################################################################################################################\n",
    "\n",
    "################################################  VAR Validation Phase ###################################################\n",
    "\n",
    "    model = VAR(endog = train_data, freq='AS-JAN')\n",
    "    model_fit = model.fit()\n",
    "\n",
    "    # make prediction on validation\n",
    "    t_fcast1 = model_fit.forecast(model_fit.y, steps=7)\n",
    "    t_fcast1 = pd.DataFrame(t_fcast1, index=index_7_years)\n",
    "\n",
    "\n",
    "\n",
    "################################################  VAR Future Phase #######################################################\n",
    "\n",
    "\n",
    "    model2 = VAR(endog = all_data, freq='AS-JAN')\n",
    "    model2_fit = model.fit()\n",
    "        \n",
    "    f_fcast1 = model2_fit.forecast(model2_fit.y, steps=7)\n",
    "        \n",
    "    f_fcast1 = pd.DataFrame(f_fcast1, index=future_7_years)\n",
    "        \n",
    "\n",
    "##################################################################################################################\n",
    "################################################ Plotting ######################################################\n",
    "##################################################################################################################\n",
    "\n",
    "# PLOTS PREVIOUSLY DEVELOPED AND ADDED TO TABLEAU/STREAMLIT!!\n",
    "\n",
    "################################################  DF VAR #######################################################\n",
    "     \n",
    "#     try:\n",
    "#         #Creating df for forecast\n",
    "    t_fcast1 = t_fcast1.reset_index()\n",
    "    t_fcast1.columns = ['Year', \"VAR FI\", 'VAR POV']\n",
    "    \n",
    "    f_fcast1 = f_fcast1.reset_index()\n",
    "    f_fcast1.columns = ['Year', 'VAR Future FI', 'VAR Future Pov']\n",
    "        \n",
    "    #Extra Columns\n",
    "    t_fcast1[['VAR Future FI', 'VAR Future Pov']] = np.nan\n",
    "    f_fcast1[[\"VAR FI\", 'VAR POV']] = np.nan\n",
    "        \n",
    "    #Reordering\n",
    "    t_fcast1 = t_fcast1[['Year', 'VAR Future FI', 'VAR Future Pov', 'VAR FI', 'VAR POV']]\n",
    "        \n",
    "    # Joining them togther\n",
    "    df_fcast1 = pd.concat([t_fcast1, f_fcast1], axis = 0)\n",
    "    df_fcast1['State'] = s\n",
    "\n",
    "################################################ Aggregating and Joining #######################################################\n",
    "\n",
    "    df_fcast1 = df_fcast1.groupby(['Year', 'State'], as_index = False).agg({'VAR Future FI': 'sum', 'VAR Future Pov': 'sum'})   \n",
    "        \n",
    "    all_forecasts = df_fcast1.copy()\n",
    "\n",
    "    #Save predictions in df. First time this will fail and just give all_forecasts, after that will concat for each state\n",
    "    try: \n",
    "        final_forecasts = pd.concat([final_forecasts, all_forecasts], ignore_index = True).copy()\n",
    "    except:\n",
    "        final_forecasts = all_forecasts.copy()\n"
   ]
  },
  {
   "cell_type": "markdown",
   "metadata": {},
   "source": [
    "<a id='prep'></a>\n",
    "## 3. Preparing Original Data and Forecast Data for Concatenation"
   ]
  },
  {
   "cell_type": "code",
   "execution_count": 17,
   "metadata": {},
   "outputs": [
    {
     "data": {
      "text/html": [
       "<div>\n",
       "<style scoped>\n",
       "    .dataframe tbody tr th:only-of-type {\n",
       "        vertical-align: middle;\n",
       "    }\n",
       "\n",
       "    .dataframe tbody tr th {\n",
       "        vertical-align: top;\n",
       "    }\n",
       "\n",
       "    .dataframe thead th {\n",
       "        text-align: right;\n",
       "    }\n",
       "</style>\n",
       "<table border=\"1\" class=\"dataframe\">\n",
       "  <thead>\n",
       "    <tr style=\"text-align: right;\">\n",
       "      <th></th>\n",
       "      <th>time</th>\n",
       "      <th>state</th>\n",
       "      <th>pov</th>\n",
       "      <th>fi</th>\n",
       "    </tr>\n",
       "  </thead>\n",
       "  <tbody>\n",
       "    <tr>\n",
       "      <th>0</th>\n",
       "      <td>2010-01-01</td>\n",
       "      <td>Alabama</td>\n",
       "      <td>18.9</td>\n",
       "      <td>20.379104</td>\n",
       "    </tr>\n",
       "    <tr>\n",
       "      <th>1</th>\n",
       "      <td>2011-01-01</td>\n",
       "      <td>Alabama</td>\n",
       "      <td>18.9</td>\n",
       "      <td>19.292537</td>\n",
       "    </tr>\n",
       "    <tr>\n",
       "      <th>2</th>\n",
       "      <td>2012-01-01</td>\n",
       "      <td>Alabama</td>\n",
       "      <td>21.3</td>\n",
       "      <td>19.497412</td>\n",
       "    </tr>\n",
       "    <tr>\n",
       "      <th>3</th>\n",
       "      <td>2013-01-01</td>\n",
       "      <td>Alabama</td>\n",
       "      <td>23.8</td>\n",
       "      <td>18.569592</td>\n",
       "    </tr>\n",
       "    <tr>\n",
       "      <th>4</th>\n",
       "      <td>2014-01-01</td>\n",
       "      <td>Alabama</td>\n",
       "      <td>20.6</td>\n",
       "      <td>18.800626</td>\n",
       "    </tr>\n",
       "  </tbody>\n",
       "</table>\n",
       "</div>"
      ],
      "text/plain": [
       "        time    state   pov         fi\n",
       "0 2010-01-01  Alabama  18.9  20.379104\n",
       "1 2011-01-01  Alabama  18.9  19.292537\n",
       "2 2012-01-01  Alabama  21.3  19.497412\n",
       "3 2013-01-01  Alabama  23.8  18.569592\n",
       "4 2014-01-01  Alabama  20.6  18.800626"
      ]
     },
     "execution_count": 17,
     "metadata": {},
     "output_type": "execute_result"
    }
   ],
   "source": [
    "data.head()"
   ]
  },
  {
   "cell_type": "code",
   "execution_count": 18,
   "metadata": {},
   "outputs": [],
   "source": [
    "#Renaming Columns\n",
    "final_forecasts.rename(columns = {'VAR Future FI': 'pov',\n",
    "                                  'VAR Future Pov': 'fi',\n",
    "                                  'State': 'state',\n",
    "                                  'Year': 'year'\n",
    "                                 }, inplace = True)\n",
    "\n",
    "data.rename(columns = {'time' : 'year'}, inplace = True)"
   ]
  },
  {
   "cell_type": "code",
   "execution_count": 19,
   "metadata": {},
   "outputs": [
    {
     "data": {
      "text/html": [
       "<div>\n",
       "<style scoped>\n",
       "    .dataframe tbody tr th:only-of-type {\n",
       "        vertical-align: middle;\n",
       "    }\n",
       "\n",
       "    .dataframe tbody tr th {\n",
       "        vertical-align: top;\n",
       "    }\n",
       "\n",
       "    .dataframe thead th {\n",
       "        text-align: right;\n",
       "    }\n",
       "</style>\n",
       "<table border=\"1\" class=\"dataframe\">\n",
       "  <thead>\n",
       "    <tr style=\"text-align: right;\">\n",
       "      <th></th>\n",
       "      <th>year</th>\n",
       "      <th>state</th>\n",
       "      <th>pov</th>\n",
       "      <th>fi</th>\n",
       "    </tr>\n",
       "  </thead>\n",
       "  <tbody>\n",
       "    <tr>\n",
       "      <th>0</th>\n",
       "      <td>2017-01-01</td>\n",
       "      <td>Alabama</td>\n",
       "      <td>0.000000</td>\n",
       "      <td>0.000000</td>\n",
       "    </tr>\n",
       "    <tr>\n",
       "      <th>1</th>\n",
       "      <td>2018-01-01</td>\n",
       "      <td>Alabama</td>\n",
       "      <td>0.000000</td>\n",
       "      <td>0.000000</td>\n",
       "    </tr>\n",
       "    <tr>\n",
       "      <th>2</th>\n",
       "      <td>2019-01-01</td>\n",
       "      <td>Alabama</td>\n",
       "      <td>18.485370</td>\n",
       "      <td>21.869745</td>\n",
       "    </tr>\n",
       "    <tr>\n",
       "      <th>3</th>\n",
       "      <td>2020-01-01</td>\n",
       "      <td>Alabama</td>\n",
       "      <td>18.557806</td>\n",
       "      <td>21.571658</td>\n",
       "    </tr>\n",
       "    <tr>\n",
       "      <th>4</th>\n",
       "      <td>2021-01-01</td>\n",
       "      <td>Alabama</td>\n",
       "      <td>18.602132</td>\n",
       "      <td>21.542153</td>\n",
       "    </tr>\n",
       "  </tbody>\n",
       "</table>\n",
       "</div>"
      ],
      "text/plain": [
       "        year    state        pov         fi\n",
       "0 2017-01-01  Alabama   0.000000   0.000000\n",
       "1 2018-01-01  Alabama   0.000000   0.000000\n",
       "2 2019-01-01  Alabama  18.485370  21.869745\n",
       "3 2020-01-01  Alabama  18.557806  21.571658\n",
       "4 2021-01-01  Alabama  18.602132  21.542153"
      ]
     },
     "execution_count": 19,
     "metadata": {},
     "output_type": "execute_result"
    }
   ],
   "source": [
    "final_forecasts.head()"
   ]
  },
  {
   "cell_type": "code",
   "execution_count": 20,
   "metadata": {},
   "outputs": [
    {
     "name": "stderr",
     "output_type": "stream",
     "text": [
      "<ipython-input-20-33f53288d2e1>:2: SettingWithCopyWarning: \n",
      "A value is trying to be set on a copy of a slice from a DataFrame\n",
      "\n",
      "See the caveats in the documentation: https://pandas.pydata.org/pandas-docs/stable/user_guide/indexing.html#returning-a-view-versus-a-copy\n",
      "  final_forecasts['pov'][final_forecasts['pov'] == 0] = np.nan\n",
      "<ipython-input-20-33f53288d2e1>:3: SettingWithCopyWarning: \n",
      "A value is trying to be set on a copy of a slice from a DataFrame\n",
      "\n",
      "See the caveats in the documentation: https://pandas.pydata.org/pandas-docs/stable/user_guide/indexing.html#returning-a-view-versus-a-copy\n",
      "  final_forecasts['fi'][final_forecasts['fi'] == 0] = np.nan\n"
     ]
    }
   ],
   "source": [
    "#Dropping 0's\n",
    "final_forecasts['pov'][final_forecasts['pov'] == 0] = np.nan\n",
    "final_forecasts['fi'][final_forecasts['fi'] == 0] = np.nan\n",
    "\n",
    "final_forecasts.dropna(inplace = True)"
   ]
  },
  {
   "cell_type": "code",
   "execution_count": 21,
   "metadata": {},
   "outputs": [],
   "source": [
    "#Dropping 2019 in forecasts as we have it in the original\n",
    "final_forecasts.drop(final_forecasts[(final_forecasts['year'] == '2019-01-01')].index, inplace=True)"
   ]
  },
  {
   "cell_type": "code",
   "execution_count": 22,
   "metadata": {},
   "outputs": [],
   "source": [
    "#Concatenating and dropping NA\n",
    "output_df = pd.concat([data, final_forecasts], axis = 0)\n",
    "\n",
    "output_df.dropna(inplace=True)"
   ]
  },
  {
   "cell_type": "code",
   "execution_count": 23,
   "metadata": {},
   "outputs": [
    {
     "data": {
      "text/html": [
       "<div>\n",
       "<style scoped>\n",
       "    .dataframe tbody tr th:only-of-type {\n",
       "        vertical-align: middle;\n",
       "    }\n",
       "\n",
       "    .dataframe tbody tr th {\n",
       "        vertical-align: top;\n",
       "    }\n",
       "\n",
       "    .dataframe thead th {\n",
       "        text-align: right;\n",
       "    }\n",
       "</style>\n",
       "<table border=\"1\" class=\"dataframe\">\n",
       "  <thead>\n",
       "    <tr style=\"text-align: right;\">\n",
       "      <th></th>\n",
       "      <th>year</th>\n",
       "      <th>state</th>\n",
       "      <th>pov</th>\n",
       "      <th>fi</th>\n",
       "    </tr>\n",
       "  </thead>\n",
       "  <tbody>\n",
       "    <tr>\n",
       "      <th>0</th>\n",
       "      <td>2010-01-01</td>\n",
       "      <td>Alabama</td>\n",
       "      <td>18.9</td>\n",
       "      <td>20.379104</td>\n",
       "    </tr>\n",
       "    <tr>\n",
       "      <th>1</th>\n",
       "      <td>2011-01-01</td>\n",
       "      <td>Alabama</td>\n",
       "      <td>18.9</td>\n",
       "      <td>19.292537</td>\n",
       "    </tr>\n",
       "    <tr>\n",
       "      <th>2</th>\n",
       "      <td>2012-01-01</td>\n",
       "      <td>Alabama</td>\n",
       "      <td>21.3</td>\n",
       "      <td>19.497412</td>\n",
       "    </tr>\n",
       "    <tr>\n",
       "      <th>3</th>\n",
       "      <td>2013-01-01</td>\n",
       "      <td>Alabama</td>\n",
       "      <td>23.8</td>\n",
       "      <td>18.569592</td>\n",
       "    </tr>\n",
       "    <tr>\n",
       "      <th>4</th>\n",
       "      <td>2014-01-01</td>\n",
       "      <td>Alabama</td>\n",
       "      <td>20.6</td>\n",
       "      <td>18.800626</td>\n",
       "    </tr>\n",
       "  </tbody>\n",
       "</table>\n",
       "</div>"
      ],
      "text/plain": [
       "        year    state   pov         fi\n",
       "0 2010-01-01  Alabama  18.9  20.379104\n",
       "1 2011-01-01  Alabama  18.9  19.292537\n",
       "2 2012-01-01  Alabama  21.3  19.497412\n",
       "3 2013-01-01  Alabama  23.8  18.569592\n",
       "4 2014-01-01  Alabama  20.6  18.800626"
      ]
     },
     "execution_count": 23,
     "metadata": {},
     "output_type": "execute_result"
    }
   ],
   "source": [
    "output_df.head()"
   ]
  },
  {
   "cell_type": "code",
   "execution_count": 21,
   "metadata": {},
   "outputs": [],
   "source": [
    "#Exporting to CSV for use in tableau\n",
    "# output_df.to_csv('./data/time_series/var_model_preds.csv')"
   ]
  },
  {
   "cell_type": "code",
   "execution_count": null,
   "metadata": {},
   "outputs": [],
   "source": []
  }
 ],
 "metadata": {
  "kernelspec": {
   "display_name": "Python 3",
   "language": "python",
   "name": "python3"
  },
  "language_info": {
   "codemirror_mode": {
    "name": "ipython",
    "version": 3
   },
   "file_extension": ".py",
   "mimetype": "text/x-python",
   "name": "python",
   "nbconvert_exporter": "python",
   "pygments_lexer": "ipython3",
   "version": "3.8.5"
  }
 },
 "nbformat": 4,
 "nbformat_minor": 4
}
